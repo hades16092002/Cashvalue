{
  "nbformat": 4,
  "nbformat_minor": 0,
  "metadata": {
    "colab": {
      "provenance": [],
      "authorship_tag": "ABX9TyPe6pxfeLSr+9FwEaCa4PvC",
      "include_colab_link": true
    },
    "kernelspec": {
      "name": "python3",
      "display_name": "Python 3"
    },
    "language_info": {
      "name": "python"
    }
  },
  "cells": [
    {
      "cell_type": "markdown",
      "metadata": {
        "id": "view-in-github",
        "colab_type": "text"
      },
      "source": [
        "<a href=\"https://colab.research.google.com/github/hades16092002/Cashvalue/blob/main/Untitled0.ipynb\" target=\"_parent\"><img src=\"https://colab.research.google.com/assets/colab-badge.svg\" alt=\"Open In Colab\"/></a>"
      ]
    },
    {
      "cell_type": "code",
      "execution_count": 10,
      "metadata": {
        "colab": {
          "base_uri": "https://localhost:8080/"
        },
        "id": "co6Q6C-FTy-H",
        "outputId": "85487292-6e86-4daf-e76b-cfb9b663dc31"
      },
      "outputs": [
        {
          "output_type": "stream",
          "name": "stdout",
          "text": [
            "Enter a string of 0 & 1: 1010101\n",
            "not accepted\n"
          ]
        }
      ],
      "source": [
        "myinput = input(\"Enter a string of 0 & 1: \")\n",
        "if len(myinput)<3:\n",
        " print(\"Not Accepted\")\n",
        "elif len(myinput)==3:\n",
        " if myinput==\"111\":\n",
        "   print(\"Accepted\")\n",
        " else:\n",
        "   print(\"Not Accepted\")\n",
        "else:\n",
        "  count=0\n",
        "  for i in myinput:\n",
        "    if count==3:\n",
        "     break\n",
        "    elif i=='1':\n",
        "      count=count+1\n",
        "    else:\n",
        "      count=0\n",
        "if count==3:\n",
        " print(\"accepted\") \n",
        "else:\n",
        " print(\"not accepted\")"
      ]
    }
  ]
}